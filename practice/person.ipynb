{
 "cells": [
  {
   "cell_type": "markdown",
   "metadata": {},
   "source": [
    "## Reproduction of Table: person using Python\n",
    "\n",
    "* Found a way to apply multiple functions to multiple groupby columns\n",
    "* Python can be as efficient and elegant in creating this table as SQL\n",
    "* Additional visualization on top 3 freelancers' monthly income by project <br><br>\n",
    "\n",
    "* These data can provides insights on <b>freelancers' working behavior</b>, e.g. how frequent they work, but\n",
    "* Give no clues about <b>freelancer's data entry behavior</b>, e.g. when and how frequent they enter their time <br><br>\n",
    "\n",
    "* Time spent on table reproduction: 2 hours 20 minutes (yeah!)\n",
    "* Duration for table reproduction: 2018/05/02 to 2018/05/02"
   ]
  },
  {
   "cell_type": "code",
   "execution_count": 121,
   "metadata": {},
   "outputs": [
    {
     "data": {
      "text/html": [
       "<style>\n",
       "table { float: left }\n",
       "</style>\n",
       "\n",
       "#Data: what is the data to be included in the table?\n",
       "#Source: where is the data being collected from?\n",
       "#Formula: how is the data being processed?"
      ],
      "text/plain": [
       "<IPython.core.display.HTML object>"
      ]
     },
     "metadata": {},
     "output_type": "display_data"
    }
   ],
   "source": [
    "%%html\n",
    "<style>\n",
    "table { float: left }\n",
    "</style>\n",
    "\n",
    "#Data: what is the data to be included in the table?\n",
    "#Source: where is the data being collected from?\n",
    "#Formula: how is the data being processed?"
   ]
  },
  {
   "cell_type": "markdown",
   "metadata": {},
   "source": [
    "| data | source | formula | remarks |\n",
    "| ----------------- | ------------------------- | ------- | - |\n",
    "| person_id         | timesheet.person_id       | groupby |   |\n",
    "| person_name       | timesheet.person_name     | groupby |   |\n",
    "| entry_count       | timesheet.duration        | count   |   |\n",
    "| total_entry_hours | timesheet.duration        | sum     |   |\n",
    "| avg_entry_hours   | timesheet.duration        | mean    | sum/count |\n",
    "| min_entry_hours   | timesheet.duration        | min     |   |\n",
    "| max_entry_hours   | timesheet.duration        | max     |   |\n",
    "| first_entry       | timesheet.start_datetime  | min     |   |\n",
    "| latest_entry      | timesheet.stop_datetime   | max     |   |\n",
    "| activity_days     | timesheet.datetime        | minus   | stop - start |\n",
    "| total_gross       | timesheet.total           | sum     |   |\n",
    "| total_discount    | timesheet.total_discount  | sum     |   |\n",
    "| project_count     | timesheet.account_name    | count   |   |"
   ]
  },
  {
   "cell_type": "code",
   "execution_count": 122,
   "metadata": {},
   "outputs": [],
   "source": [
    "import pandas as pd\n",
    "import matplotlib.pyplot as plt\n",
    "import seaborn as sns\n",
    "import numpy as np\n",
    "import math\n",
    "import datetime\n",
    "import time\n",
    "import pytz\n",
    "import dateutil\n",
    "from dateutil import relativedelta\n",
    "\n",
    "sns.set(color_codes=True)\n",
    "sns.set(rc={\"figure.figsize\": (16, 16)})"
   ]
  },
  {
   "cell_type": "code",
   "execution_count": 123,
   "metadata": {},
   "outputs": [],
   "source": [
    "# Database connection credentials\n",
    "\n",
    "user = \"postgres\"\n",
    "password = \"200323201\"\n",
    "host = \"localhost\"\n",
    "port = \"5432\"\n",
    "database = \"heroku-timesheet\""
   ]
  },
  {
   "cell_type": "code",
   "execution_count": 124,
   "metadata": {},
   "outputs": [],
   "source": [
    "db_string = \"postgresql://{user}:{password}@{host}:{port}/{database}\".format(user=user, \n",
    "                                                                             password=password,\n",
    "                                                                             host=host,\n",
    "                                                                             port=port,\n",
    "                                                                             database=database)"
   ]
  },
  {
   "cell_type": "code",
   "execution_count": 125,
   "metadata": {},
   "outputs": [],
   "source": [
    "from sqlalchemy import create_engine\n",
    "engine = create_engine(db_string)\n",
    "con = engine.connect()"
   ]
  },
  {
   "cell_type": "code",
   "execution_count": 126,
   "metadata": {},
   "outputs": [],
   "source": [
    "query = \"\"\"\n",
    "    SELECT model.timesheet.person_id,\n",
    "           model.timesheet.person_name,\n",
    "           model.timesheet.duration,\n",
    "           model.timesheet.start_datetime,\n",
    "           model.timesheet.stop_datetime,\n",
    "           model.timesheet.total,\n",
    "           model.timesheet.total_discount,\n",
    "           model.timesheet.account_name\n",
    "    FROM model.timesheet\n",
    "        \"\"\""
   ]
  },
  {
   "cell_type": "code",
   "execution_count": 127,
   "metadata": {},
   "outputs": [],
   "source": [
    "timesheet = pd.read_sql(query, con)"
   ]
  },
  {
   "cell_type": "code",
   "execution_count": 128,
   "metadata": {},
   "outputs": [
    {
     "data": {
      "text/html": [
       "<div>\n",
       "<style scoped>\n",
       "    .dataframe tbody tr th:only-of-type {\n",
       "        vertical-align: middle;\n",
       "    }\n",
       "\n",
       "    .dataframe tbody tr th {\n",
       "        vertical-align: top;\n",
       "    }\n",
       "\n",
       "    .dataframe thead th {\n",
       "        text-align: right;\n",
       "    }\n",
       "</style>\n",
       "<table border=\"1\" class=\"dataframe\">\n",
       "  <thead>\n",
       "    <tr style=\"text-align: right;\">\n",
       "      <th></th>\n",
       "      <th>person_id</th>\n",
       "      <th>person_name</th>\n",
       "      <th>duration</th>\n",
       "      <th>start_datetime</th>\n",
       "      <th>stop_datetime</th>\n",
       "      <th>total</th>\n",
       "      <th>total_discount</th>\n",
       "      <th>account_name</th>\n",
       "    </tr>\n",
       "  </thead>\n",
       "  <tbody>\n",
       "    <tr>\n",
       "      <th>0</th>\n",
       "      <td>fbd4990b-7e22-45b1-b6db-27d13294e39c</td>\n",
       "      <td>Théophile Sandoz</td>\n",
       "      <td>11:00:00</td>\n",
       "      <td>2017-09-20 01:00:00+00:00</td>\n",
       "      <td>2017-09-20 12:00:00+00:00</td>\n",
       "      <td>3300.0</td>\n",
       "      <td>0.0</td>\n",
       "      <td>AKQA</td>\n",
       "    </tr>\n",
       "    <tr>\n",
       "      <th>1</th>\n",
       "      <td>fbd4990b-7e22-45b1-b6db-27d13294e39c</td>\n",
       "      <td>Théophile Sandoz</td>\n",
       "      <td>11:00:00</td>\n",
       "      <td>2017-09-21 01:00:00+00:00</td>\n",
       "      <td>2017-09-21 12:00:00+00:00</td>\n",
       "      <td>3300.0</td>\n",
       "      <td>0.0</td>\n",
       "      <td>AKQA</td>\n",
       "    </tr>\n",
       "    <tr>\n",
       "      <th>2</th>\n",
       "      <td>fbd4990b-7e22-45b1-b6db-27d13294e39c</td>\n",
       "      <td>Théophile Sandoz</td>\n",
       "      <td>11:00:00</td>\n",
       "      <td>2017-09-22 01:00:00+00:00</td>\n",
       "      <td>2017-09-22 12:00:00+00:00</td>\n",
       "      <td>3300.0</td>\n",
       "      <td>0.0</td>\n",
       "      <td>AKQA</td>\n",
       "    </tr>\n",
       "    <tr>\n",
       "      <th>3</th>\n",
       "      <td>fbd4990b-7e22-45b1-b6db-27d13294e39c</td>\n",
       "      <td>Théophile Sandoz</td>\n",
       "      <td>11:00:00</td>\n",
       "      <td>2017-09-25 01:00:00+00:00</td>\n",
       "      <td>2017-09-25 12:00:00+00:00</td>\n",
       "      <td>3300.0</td>\n",
       "      <td>0.0</td>\n",
       "      <td>AKQA</td>\n",
       "    </tr>\n",
       "    <tr>\n",
       "      <th>4</th>\n",
       "      <td>fbd4990b-7e22-45b1-b6db-27d13294e39c</td>\n",
       "      <td>Théophile Sandoz</td>\n",
       "      <td>11:00:00</td>\n",
       "      <td>2017-09-26 01:00:00+00:00</td>\n",
       "      <td>2017-09-26 12:00:00+00:00</td>\n",
       "      <td>3300.0</td>\n",
       "      <td>0.0</td>\n",
       "      <td>AKQA</td>\n",
       "    </tr>\n",
       "  </tbody>\n",
       "</table>\n",
       "</div>"
      ],
      "text/plain": [
       "                              person_id       person_name duration  \\\n",
       "0  fbd4990b-7e22-45b1-b6db-27d13294e39c  Théophile Sandoz 11:00:00   \n",
       "1  fbd4990b-7e22-45b1-b6db-27d13294e39c  Théophile Sandoz 11:00:00   \n",
       "2  fbd4990b-7e22-45b1-b6db-27d13294e39c  Théophile Sandoz 11:00:00   \n",
       "3  fbd4990b-7e22-45b1-b6db-27d13294e39c  Théophile Sandoz 11:00:00   \n",
       "4  fbd4990b-7e22-45b1-b6db-27d13294e39c  Théophile Sandoz 11:00:00   \n",
       "\n",
       "             start_datetime             stop_datetime   total  total_discount  \\\n",
       "0 2017-09-20 01:00:00+00:00 2017-09-20 12:00:00+00:00  3300.0             0.0   \n",
       "1 2017-09-21 01:00:00+00:00 2017-09-21 12:00:00+00:00  3300.0             0.0   \n",
       "2 2017-09-22 01:00:00+00:00 2017-09-22 12:00:00+00:00  3300.0             0.0   \n",
       "3 2017-09-25 01:00:00+00:00 2017-09-25 12:00:00+00:00  3300.0             0.0   \n",
       "4 2017-09-26 01:00:00+00:00 2017-09-26 12:00:00+00:00  3300.0             0.0   \n",
       "\n",
       "  account_name  \n",
       "0         AKQA  \n",
       "1         AKQA  \n",
       "2         AKQA  \n",
       "3         AKQA  \n",
       "4         AKQA  "
      ]
     },
     "execution_count": 128,
     "metadata": {},
     "output_type": "execute_result"
    }
   ],
   "source": [
    "timesheet.head()"
   ]
  },
  {
   "cell_type": "code",
   "execution_count": 129,
   "metadata": {},
   "outputs": [
    {
     "name": "stdout",
     "output_type": "stream",
     "text": [
      "<class 'pandas.core.frame.DataFrame'>\n",
      "RangeIndex: 4093 entries, 0 to 4092\n",
      "Data columns (total 8 columns):\n",
      "person_id         4093 non-null object\n",
      "person_name       4093 non-null object\n",
      "duration          4093 non-null timedelta64[ns]\n",
      "start_datetime    4093 non-null datetime64[ns, UTC]\n",
      "stop_datetime     4093 non-null datetime64[ns, UTC]\n",
      "total             4093 non-null float64\n",
      "total_discount    4093 non-null float64\n",
      "account_name      4093 non-null object\n",
      "dtypes: datetime64[ns, UTC](2), float64(2), object(3), timedelta64[ns](1)\n",
      "memory usage: 255.9+ KB\n"
     ]
    }
   ],
   "source": [
    "timesheet.info()"
   ]
  },
  {
   "cell_type": "markdown",
   "metadata": {},
   "source": [
    "## Reproduction of Table: person"
   ]
  },
  {
   "cell_type": "code",
   "execution_count": 130,
   "metadata": {},
   "outputs": [
    {
     "data": {
      "text/html": [
       "<div>\n",
       "<style scoped>\n",
       "    .dataframe tbody tr th:only-of-type {\n",
       "        vertical-align: middle;\n",
       "    }\n",
       "\n",
       "    .dataframe tbody tr th {\n",
       "        vertical-align: top;\n",
       "    }\n",
       "\n",
       "    .dataframe thead th {\n",
       "        text-align: right;\n",
       "    }\n",
       "</style>\n",
       "<table border=\"1\" class=\"dataframe\">\n",
       "  <thead>\n",
       "    <tr style=\"text-align: right;\">\n",
       "      <th></th>\n",
       "      <th>person_name</th>\n",
       "      <th>entry_count</th>\n",
       "      <th>total_entry_hours</th>\n",
       "      <th>avg_entry_hours</th>\n",
       "      <th>min_entry_hours</th>\n",
       "      <th>max_entry_hours</th>\n",
       "      <th>first_entry</th>\n",
       "      <th>latest_entry</th>\n",
       "      <th>activity_days</th>\n",
       "      <th>total_gross</th>\n",
       "      <th>total_discount</th>\n",
       "      <th>project_count</th>\n",
       "    </tr>\n",
       "  </thead>\n",
       "  <tbody>\n",
       "    <tr>\n",
       "      <th>0</th>\n",
       "      <td>Ricky Ng-Adam</td>\n",
       "      <td>574</td>\n",
       "      <td>780.75</td>\n",
       "      <td>1.36</td>\n",
       "      <td>0.25</td>\n",
       "      <td>7.00</td>\n",
       "      <td>2016/10/17</td>\n",
       "      <td>2018/04/15</td>\n",
       "      <td>546</td>\n",
       "      <td>396141.67</td>\n",
       "      <td>148458.33</td>\n",
       "      <td>16</td>\n",
       "    </tr>\n",
       "    <tr>\n",
       "      <th>1</th>\n",
       "      <td>Joe Beltrami</td>\n",
       "      <td>546</td>\n",
       "      <td>938.50</td>\n",
       "      <td>1.72</td>\n",
       "      <td>0.05</td>\n",
       "      <td>8.50</td>\n",
       "      <td>2016/12/07</td>\n",
       "      <td>2018/04/15</td>\n",
       "      <td>495</td>\n",
       "      <td>228546.67</td>\n",
       "      <td>0.00</td>\n",
       "      <td>3</td>\n",
       "    </tr>\n",
       "    <tr>\n",
       "      <th>2</th>\n",
       "      <td>Alex Miller</td>\n",
       "      <td>263</td>\n",
       "      <td>826.25</td>\n",
       "      <td>3.14</td>\n",
       "      <td>0.33</td>\n",
       "      <td>8.00</td>\n",
       "      <td>2017/08/24</td>\n",
       "      <td>2018/04/13</td>\n",
       "      <td>233</td>\n",
       "      <td>202187.50</td>\n",
       "      <td>2625.00</td>\n",
       "      <td>5</td>\n",
       "    </tr>\n",
       "    <tr>\n",
       "      <th>3</th>\n",
       "      <td>Abhishek Kumar</td>\n",
       "      <td>67</td>\n",
       "      <td>243.50</td>\n",
       "      <td>3.63</td>\n",
       "      <td>0.50</td>\n",
       "      <td>10.50</td>\n",
       "      <td>2017/10/23</td>\n",
       "      <td>2018/04/04</td>\n",
       "      <td>164</td>\n",
       "      <td>170450.00</td>\n",
       "      <td>0.00</td>\n",
       "      <td>4</td>\n",
       "    </tr>\n",
       "    <tr>\n",
       "      <th>4</th>\n",
       "      <td>Théophile Sandoz</td>\n",
       "      <td>50</td>\n",
       "      <td>464.38</td>\n",
       "      <td>9.29</td>\n",
       "      <td>4.00</td>\n",
       "      <td>12.25</td>\n",
       "      <td>2017/07/17</td>\n",
       "      <td>2017/09/29</td>\n",
       "      <td>75</td>\n",
       "      <td>139315.00</td>\n",
       "      <td>0.00</td>\n",
       "      <td>1</td>\n",
       "    </tr>\n",
       "  </tbody>\n",
       "</table>\n",
       "</div>"
      ],
      "text/plain": [
       "        person_name  entry_count  total_entry_hours  avg_entry_hours  \\\n",
       "0     Ricky Ng-Adam          574             780.75             1.36   \n",
       "1      Joe Beltrami          546             938.50             1.72   \n",
       "2       Alex Miller          263             826.25             3.14   \n",
       "3    Abhishek Kumar           67             243.50             3.63   \n",
       "4  Théophile Sandoz           50             464.38             9.29   \n",
       "\n",
       "   min_entry_hours  max_entry_hours first_entry latest_entry  activity_days  \\\n",
       "0             0.25             7.00  2016/10/17   2018/04/15            546   \n",
       "1             0.05             8.50  2016/12/07   2018/04/15            495   \n",
       "2             0.33             8.00  2017/08/24   2018/04/13            233   \n",
       "3             0.50            10.50  2017/10/23   2018/04/04            164   \n",
       "4             4.00            12.25  2017/07/17   2017/09/29             75   \n",
       "\n",
       "   total_gross  total_discount  project_count  \n",
       "0    396141.67       148458.33             16  \n",
       "1    228546.67            0.00              3  \n",
       "2    202187.50         2625.00              5  \n",
       "3    170450.00            0.00              4  \n",
       "4    139315.00            0.00              1  "
      ]
     },
     "execution_count": 130,
     "metadata": {},
     "output_type": "execute_result"
    }
   ],
   "source": [
    "def person(timesheet):\n",
    "    person = {}\n",
    "    person['entry_count']       = timesheet['duration'].count()\n",
    "    person['total_entry_hours'] = round(timesheet['duration'].sum().total_seconds()/3600, 2)\n",
    "    person['avg_entry_hours']   = round(timesheet['duration'].sum().total_seconds()/3600/timesheet['duration'].count(), 2)\n",
    "    person['min_entry_hours']   = round(timesheet['duration'].min().total_seconds()/3600, 2)\n",
    "    person['max_entry_hours']   = round(timesheet['duration'].max().total_seconds()/3600, 2)\n",
    "    person['first_entry']       = timesheet['start_datetime'].min().strftime('%Y/%m/%d')\n",
    "    person['latest_entry']        = timesheet['stop_datetime'].max().strftime('%Y/%m/%d')\n",
    "    person['activity_days']     = int(math.ceil((timesheet['stop_datetime'].max() - timesheet['start_datetime'].min()).total_seconds()/3600/24))\n",
    "    person['total_gross']       = round(timesheet['total'].sum(), 2)\n",
    "    person['total_discount']    = round(timesheet['total_discount'].sum(), 2)\n",
    "    person['project_count']     = timesheet['account_name'].nunique()\n",
    "    return pd.Series(person, index=['entry_count', 'total_entry_hours', 'avg_entry_hours', 'min_entry_hours', 'max_entry_hours',\n",
    "                                    'first_entry', 'latest_entry', 'activity_days', 'total_gross', 'total_discount', 'project_count'])\n",
    "\n",
    "person = timesheet.groupby(['person_name']).apply(person).sort_values(by=['total_gross'], ascending=False).reset_index()\n",
    "person.head()"
   ]
  },
  {
   "cell_type": "markdown",
   "metadata": {},
   "source": [
    "## Person_Project_View"
   ]
  },
  {
   "cell_type": "code",
   "execution_count": 136,
   "metadata": {},
   "outputs": [
    {
     "name": "stdout",
     "output_type": "stream",
     "text": [
      "['Théophile Sandoz' 'Ricky Ng-Adam' 'Yangyang Xu' 'Joe Beltrami'\n",
      " 'Frederic Bazin' 'Julie Li' 'Echo Ding' 'Gaurav Pahwa' 'Chun Zhang'\n",
      " 'Alex Miller' 'Ruud Peters' 'David Yu' 'Rick Valenzuela'\n",
      " 'Lukas Helebrandt' 'Nelson Zhang' 'Miguel Fernandez' 'Charles Umemoto'\n",
      " 'Ilya Mochalov' 'Natalie Zimyatova' 'Stéphane Vernède' 'Karl Xu'\n",
      " 'Shuyu Wu' 'Owen Zheng' 'Alberto Galán' 'Caroline Bon' 'Joseph Tsindos'\n",
      " 'Thimo Visser' 'James Huajun Li' 'Abhishek Kumar' 'Gregory Orton'\n",
      " 'Dmitry Kazakov' 'Gunnar Wagner' 'Eva Chen' 'Chan Ka Lung'\n",
      " 'Mohammed BEN-THAIER' 'Eduardo Alarcon' 'Zhang Xiaochen' 'Todd Tang'\n",
      " 'Christine Liu' 'Minyang Wang' 'Dora ZHANG' 'Douglas Wright'\n",
      " 'Julien Choulet' 'Ross Cournoyer' 'John Madeley Evers' 'Margot Brulard'\n",
      " 'Jesse Xu' 'Muhammad Hassan Qureshi' 'Qiong Zhang' 'Pony Ma'\n",
      " 'Victor Robaglia' 'Yen Ting Wang' 'Terry Chen' 'Sugandha Pathak'] 54\n"
     ]
    }
   ],
   "source": [
    "print(timesheet['person_name'].unique(), timesheet['person_name'].nunique())"
   ]
  },
  {
   "cell_type": "code",
   "execution_count": 138,
   "metadata": {},
   "outputs": [],
   "source": [
    "view = timesheet.copy()\n",
    "view['time'] = view['start_datetime'].apply(lambda x: x.strftime('%Y-%m'))"
   ]
  },
  {
   "cell_type": "code",
   "execution_count": 139,
   "metadata": {},
   "outputs": [],
   "source": [
    "#how much time each freelancer spend in each project monthly?\n",
    "#groupby cannot provide margins, i.e. total of each row and column\n",
    "\n",
    "view_duration = view.groupby(['person_name', 'account_name', 'time'])['duration'].apply(lambda x: round(x.sum().total_seconds()/3600, 2))\n",
    "view_duration = view_duration.unstack().fillna(0)"
   ]
  },
  {
   "cell_type": "code",
   "execution_count": 140,
   "metadata": {},
   "outputs": [],
   "source": [
    "#how much money each freelancer earn in each project monthly?\n",
    "#pivot table can provide margins, i.e. total of each row and column\n",
    "#some have wrong total due to wrong calculation of discount\n",
    "\n",
    "view_total = view.pivot_table(index = ['person_name', 'account_name'], columns = 'time', values = 'total', \n",
    "                              aggfunc = np.sum, fill_value = 0, margins = True).apply(lambda x: round(x, 2))"
   ]
  },
  {
   "cell_type": "code",
   "execution_count": 141,
   "metadata": {},
   "outputs": [],
   "source": [
    "def individual_view(name, view):\n",
    "    individual_view = view.loc[name].reset_index()\n",
    "    return individual_view"
   ]
  },
  {
   "cell_type": "code",
   "execution_count": 142,
   "metadata": {},
   "outputs": [],
   "source": [
    "view_duration_Ricky = individual_view('Ricky Ng-Adam', view_duration)\n",
    "view_duration_Joe   = individual_view('Joe Beltrami', view_duration)\n",
    "view_duration_Alex  = individual_view('Alex Miller', view_duration)\n",
    "view_duration_Oscar = individual_view('Chan Ka Lung', view_duration)"
   ]
  },
  {
   "cell_type": "code",
   "execution_count": 143,
   "metadata": {},
   "outputs": [],
   "source": [
    "view_total_Ricky    = individual_view('Ricky Ng-Adam', view_total)\n",
    "view_total_Joe      = individual_view('Joe Beltrami', view_total)\n",
    "view_total_Alex     = individual_view('Alex Miller', view_total)\n",
    "view_total_Oscar    = individual_view('Chan Ka Lung', view_total)"
   ]
  },
  {
   "cell_type": "code",
   "execution_count": 155,
   "metadata": {},
   "outputs": [
    {
     "ename": "SyntaxError",
     "evalue": "invalid syntax (<ipython-input-155-ef7c92ccf9d2>, line 17)",
     "output_type": "error",
     "traceback": [
      "\u001b[0;36m  File \u001b[0;32m\"<ipython-input-155-ef7c92ccf9d2>\"\u001b[0;36m, line \u001b[0;32m17\u001b[0m\n\u001b[0;31m    *\u001b[0m\n\u001b[0m     ^\u001b[0m\n\u001b[0;31mSyntaxError\u001b[0m\u001b[0;31m:\u001b[0m invalid syntax\n"
     ]
    }
   ],
   "source": [
    "Ricky_x = view_total_Ricky.columns.values[1:-1].tolist()\n",
    "Ricky_y = view_total_Ricky.values[:,1:-1].tolist()\n",
    "Ricky_labels = view_total_Ricky['account_name']\n",
    "\n",
    "Joe_x = view_total_Joe.columns.values[1:-1].tolist()\n",
    "Joe_y = view_total_Joe.values[:,1:-1].tolist()\n",
    "Joe_labels = view_total_Joe['account_name']\n",
    "\n",
    "Alex_x = view_total_Alex.columns.values[1:-1].tolist()\n",
    "Alex_y = view_total_Alex.values[:,1:-1].tolist()\n",
    "Alex_labels = view_total_Alex['account_name']\n",
    "\n",
    "Oscar_x = view_total_Oscar.columns.values[1:-1].tolist()\n",
    "Oscar_y = view_total_Oscar.values[:,1:-1].tolist()\n",
    "Oscar_labels = view_total_Oscar['account_name']\n",
    "\n",
    "*\n",
    "\n",
    "ax1 = plt.subplot(311)\n",
    "plt.stackplot(Ricky_x, Ricky_y, labels = Ricky_labels)\n",
    "plt.legend(loc=2, bbox_to_anchor=(0.25, 1))\n",
    "plt.ylabel('total')\n",
    "plt.xlabel('month')\n",
    "plt.title('Monthly Income by project_Ricky')\n",
    "\n",
    "ax2 = plt.subplot(312, sharey = ax1)\n",
    "plt.stackplot(Joe_x, Joe_y, labels = Joe_labels)\n",
    "plt.legend(loc=2)\n",
    "plt.ylabel('total')\n",
    "plt.xlabel('month')\n",
    "plt.title('Monthly Income by project_Joe')\n",
    "\n",
    "ax3 = plt.subplot(313, sharey = ax1)\n",
    "plt.stackplot(Alex_x, Alex_y, labels = Alex_labels)\n",
    "plt.legend(loc=2)\n",
    "plt.ylabel('total')\n",
    "plt.xlabel('month')\n",
    "plt.title('Monthly Income by project_Alex')\n",
    "\n",
    "ax4 = plt.subplot(414, sharey = ax1)\n",
    "plt.stackplot(Oscar_x, Oscar_y, labels = Oscar_labels)\n",
    "plt.legend(loc=2)\n",
    "plt.ylabel('total')\n",
    "plt.xlabel('month')\n",
    "plt.title('Monthly Income by project_Oscar')\n",
    "\n",
    "plt.show()\n",
    "\n",
    "#unique legend colors: https://stackoverflow.com/questions/8389636/creating-over-20-unique-legend-colors-using-matplotlib"
   ]
  },
  {
   "cell_type": "markdown",
   "metadata": {},
   "source": [
    "## Freelancer Analysis\n",
    "\n",
    "* Date entry behavior: how do freelancer enter their hours? / no data\n",
    "* Working behavior: how do freelancer work? / yes\n",
    "  * Average monthly income / person / monthly income\n",
    "  * Billed members trend / time / count\n",
    "  * Monthly income trend / time / count"
   ]
  },
  {
   "cell_type": "code",
   "execution_count": 156,
   "metadata": {},
   "outputs": [],
   "source": [
    "person_entry = person[person['activity_days'] > 100].sort_values(by=['activity_days'], ascending=False)"
   ]
  }
 ],
 "metadata": {
  "kernelspec": {
   "display_name": "Python 3",
   "language": "python",
   "name": "python3"
  },
  "language_info": {
   "codemirror_mode": {
    "name": "ipython",
    "version": 3
   },
   "file_extension": ".py",
   "mimetype": "text/x-python",
   "name": "python",
   "nbconvert_exporter": "python",
   "pygments_lexer": "ipython3",
   "version": "3.6.4"
  }
 },
 "nbformat": 4,
 "nbformat_minor": 2
}
