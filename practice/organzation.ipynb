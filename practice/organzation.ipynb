{
 "cells": [
  {
   "cell_type": "code",
   "execution_count": 1877,
   "metadata": {},
   "outputs": [],
   "source": [
    "import pandas as pd\n",
    "import matplotlib.pyplot as plt\n",
    "import seaborn as sns\n",
    "import numpy as np\n",
    "import datetime\n",
    "import time\n",
    "import pytz\n",
    "import dateutil\n",
    "from dateutil import relativedelta\n",
    "\n",
    "sns.set(color_codes=True)\n",
    "sns.set(rc={\"figure.figsize\": (16, 6)})"
   ]
  },
  {
   "cell_type": "code",
   "execution_count": 1878,
   "metadata": {},
   "outputs": [],
   "source": [
    "# Database connection credentials\n",
    "\n",
    "user = \"postgres\"\n",
    "password = \"200323201\"\n",
    "host = \"localhost\"\n",
    "port = \"5432\"\n",
    "database = \"heroku-timesheet\""
   ]
  },
  {
   "cell_type": "code",
   "execution_count": 1879,
   "metadata": {},
   "outputs": [],
   "source": [
    "db_string = \"postgresql://{user}:{password}@{host}:{port}/{database}\".format(user=user, \n",
    "                                                                             password=password,\n",
    "                                                                             host=host,\n",
    "                                                                             port=port,\n",
    "                                                                             database=database)"
   ]
  },
  {
   "cell_type": "code",
   "execution_count": 1880,
   "metadata": {},
   "outputs": [],
   "source": [
    "from sqlalchemy import create_engine\n",
    "engine = create_engine(db_string)\n",
    "con = engine.connect()"
   ]
  },
  {
   "cell_type": "code",
   "execution_count": 1881,
   "metadata": {},
   "outputs": [
    {
     "data": {
      "text/html": [
       "<style>\n",
       "table { float: left }\n",
       "</style>"
      ],
      "text/plain": [
       "<IPython.core.display.HTML object>"
      ]
     },
     "metadata": {},
     "output_type": "display_data"
    }
   ],
   "source": [
    "%%html\n",
    "<style>\n",
    "table { float: left }\n",
    "</style>"
   ]
  },
  {
   "cell_type": "markdown",
   "metadata": {},
   "source": [
    "<style>\n",
    "table {float:left}\n",
    "</style>\n",
    "\n",
    "| data | source | formula | remarks |\n",
    "| ---------- | ------ | ------- | ------- |\n",
    "| orgname | organization.name |  |  |\n",
    "| since | timesheet.start_datetime | min | to be convert to date string |\n",
    "| timdelta | timesheet.start_datetime | min duration | to be convert to timedelta string |\n",
    "| people_count | timesheet.person_id | count distinct | billed members ever |\n",
    "| project_count | timesheet.project_id | count distinct | billed project ever |\n",
    "| active_project_count | timesheet.project_id | count distinct / <30 days | billed project in recent 30 days, not base on status |\n",
    "| total_hours | timesheet.duration | sum in hours | total billed hours |\n",
    "| total_eng_months | timesheet.duration | sum in months | total billed hours in months |\n",
    "| total_gross | timesheet.total | sum | total income |\n",
    "| total_investment | timesheet.total_discount | sum | total discount |"
   ]
  },
  {
   "cell_type": "code",
   "execution_count": 1882,
   "metadata": {},
   "outputs": [],
   "source": [
    "query = \"\"\"\n",
    "    SELECT model.organization.name,\n",
    "           model.timesheet.start_datetime,\n",
    "           model.timesheet.person_id,\n",
    "           model.timesheet.project_id,\n",
    "           model.timesheet.duration,\n",
    "           model.timesheet.total,\n",
    "           model.timesheet.total_discount\n",
    "    FROM model.organization\n",
    "    LEFT JOIN model.timesheet\n",
    "           ON model.organization.id = model.timesheet.organization_id\n",
    "        \"\"\""
   ]
  },
  {
   "cell_type": "code",
   "execution_count": 1883,
   "metadata": {},
   "outputs": [],
   "source": [
    "timesheet = pd.read_sql(query, con)"
   ]
  },
  {
   "cell_type": "code",
   "execution_count": 1884,
   "metadata": {},
   "outputs": [
    {
     "data": {
      "text/plain": [
       "Timestamp('2017-09-20 01:00:00+0000', tz='UTC')"
      ]
     },
     "metadata": {},
     "output_type": "display_data"
    },
    {
     "data": {
      "text/plain": [
       "Timestamp('2017-09-20 09:00:00+0800', tz='Asia/Shanghai')"
      ]
     },
     "metadata": {},
     "output_type": "display_data"
    },
    {
     "data": {
      "text/plain": [
       "Timestamp('2017-09-20 01:00:00+0806', tz='Asia/Shanghai')"
      ]
     },
     "metadata": {},
     "output_type": "display_data"
    },
    {
     "data": {
      "text/plain": [
       "Timestamp('2017-09-19 16:54:00+0000', tz='UTC')"
      ]
     },
     "metadata": {},
     "output_type": "display_data"
    }
   ],
   "source": [
    "#What time is it? The original time should have considered timezone?\n",
    "#Can ignore this. Just some experiments on conversion across timezone\n",
    "\n",
    "test0 = timesheet['start_datetime'][0]\n",
    "display(test0)\n",
    "\n",
    "test1 = test0.astimezone(pytz.timezone('Asia/Shanghai'))\n",
    "display(test1)\n",
    "\n",
    "test2 = test0.replace(tzinfo = pytz.timezone('Asia/Shanghai'))\n",
    "display(test2)\n",
    "\n",
    "test3 = test0.replace(tzinfo = pytz.timezone('Asia/Shanghai')).astimezone(pytz.UTC)\n",
    "display(test3)"
   ]
  },
  {
   "cell_type": "code",
   "execution_count": 1885,
   "metadata": {},
   "outputs": [],
   "source": [
    "timesheet['timedelta'] = now - timesheet['start_datetime']"
   ]
  },
  {
   "cell_type": "code",
   "execution_count": 1886,
   "metadata": {},
   "outputs": [],
   "source": [
    "#from timedelta to relativedelta\n",
    "#relativedelta.relativedelta(seconds = timedelta.total_seconds())"
   ]
  },
  {
   "cell_type": "code",
   "execution_count": 1887,
   "metadata": {},
   "outputs": [],
   "source": [
    "#how to convert timedelta/relativedelta to \"? Years, ? Months and ? Days\" elegantly?\n",
    "#how to solve the problem that relativedelta does not support aggregation?\n",
    "#how to handle timestamp/datetime errors i.e. NaT? Other error like None?\n",
    "#what is the difference between timedelta and relativedelta?\n",
    "#what is the use of relativedetla?"
   ]
  },
  {
   "cell_type": "code",
   "execution_count": 1888,
   "metadata": {},
   "outputs": [],
   "source": [
    "#create now() timestamp with timezone UTC\n",
    "now = pytz.UTC.localize(datetime.datetime.utcnow())"
   ]
  },
  {
   "cell_type": "code",
   "execution_count": 1889,
   "metadata": {},
   "outputs": [],
   "source": [
    "def diff_relativedelta(timestamp):\n",
    "    \n",
    "    if timestamp != 'NaT':\n",
    "        return relativedelta.relativedelta(now, timestamp)\n",
    "    else:\n",
    "        return relativedelta.relativedelta(0)"
   ]
  },
  {
   "cell_type": "code",
   "execution_count": 1890,
   "metadata": {},
   "outputs": [],
   "source": [
    "timesheet.iloc[4093, 1] = 'NaT'\n",
    "timesheet['relativedelta'] = timesheet['start_datetime'].apply(lambda x: diff_relativedelta(x).years)"
   ]
  },
  {
   "cell_type": "code",
   "execution_count": 1891,
   "metadata": {},
   "outputs": [
    {
     "data": {
      "text/html": [
       "<div>\n",
       "<style scoped>\n",
       "    .dataframe tbody tr th:only-of-type {\n",
       "        vertical-align: middle;\n",
       "    }\n",
       "\n",
       "    .dataframe tbody tr th {\n",
       "        vertical-align: top;\n",
       "    }\n",
       "\n",
       "    .dataframe thead th {\n",
       "        text-align: right;\n",
       "    }\n",
       "</style>\n",
       "<table border=\"1\" class=\"dataframe\">\n",
       "  <thead>\n",
       "    <tr style=\"text-align: right;\">\n",
       "      <th></th>\n",
       "      <th>name</th>\n",
       "      <th>start_datetime</th>\n",
       "      <th>person_id</th>\n",
       "      <th>project_id</th>\n",
       "      <th>duration</th>\n",
       "      <th>total</th>\n",
       "      <th>total_discount</th>\n",
       "      <th>timedelta</th>\n",
       "      <th>relativedelta</th>\n",
       "    </tr>\n",
       "  </thead>\n",
       "  <tbody>\n",
       "    <tr>\n",
       "      <th>4089</th>\n",
       "      <td>Coderbunker Shanghai</td>\n",
       "      <td>2017-11-08 10:00:00+00:00</td>\n",
       "      <td>17d8cefa-c01d-4ec5-85b5-1c5b2edc533c</td>\n",
       "      <td>7446253a-af9e-40bf-ba60-e1d42117d7d3</td>\n",
       "      <td>00:30:00</td>\n",
       "      <td>0.0</td>\n",
       "      <td>350.0</td>\n",
       "      <td>173 days 18:12:57.200531</td>\n",
       "      <td>0</td>\n",
       "    </tr>\n",
       "    <tr>\n",
       "      <th>4090</th>\n",
       "      <td>Coderbunker Shanghai</td>\n",
       "      <td>2017-11-08 11:30:00+00:00</td>\n",
       "      <td>17d8cefa-c01d-4ec5-85b5-1c5b2edc533c</td>\n",
       "      <td>7446253a-af9e-40bf-ba60-e1d42117d7d3</td>\n",
       "      <td>01:30:00</td>\n",
       "      <td>0.0</td>\n",
       "      <td>1050.0</td>\n",
       "      <td>173 days 16:42:57.200531</td>\n",
       "      <td>0</td>\n",
       "    </tr>\n",
       "    <tr>\n",
       "      <th>4091</th>\n",
       "      <td>Coderbunker Shanghai</td>\n",
       "      <td>2017-10-24 06:00:00+00:00</td>\n",
       "      <td>17d8cefa-c01d-4ec5-85b5-1c5b2edc533c</td>\n",
       "      <td>7446253a-af9e-40bf-ba60-e1d42117d7d3</td>\n",
       "      <td>03:00:00</td>\n",
       "      <td>0.0</td>\n",
       "      <td>2100.0</td>\n",
       "      <td>188 days 22:12:57.200531</td>\n",
       "      <td>0</td>\n",
       "    </tr>\n",
       "    <tr>\n",
       "      <th>4092</th>\n",
       "      <td>Coderbunker Shanghai</td>\n",
       "      <td>2017-10-26 02:00:00+00:00</td>\n",
       "      <td>17d8cefa-c01d-4ec5-85b5-1c5b2edc533c</td>\n",
       "      <td>7446253a-af9e-40bf-ba60-e1d42117d7d3</td>\n",
       "      <td>02:00:00</td>\n",
       "      <td>0.0</td>\n",
       "      <td>1400.0</td>\n",
       "      <td>187 days 02:12:57.200531</td>\n",
       "      <td>0</td>\n",
       "    </tr>\n",
       "    <tr>\n",
       "      <th>4093</th>\n",
       "      <td>Coderbunker Singapore</td>\n",
       "      <td>NaT</td>\n",
       "      <td>None</td>\n",
       "      <td>None</td>\n",
       "      <td>NaT</td>\n",
       "      <td>NaN</td>\n",
       "      <td>NaN</td>\n",
       "      <td>NaT</td>\n",
       "      <td>0</td>\n",
       "    </tr>\n",
       "  </tbody>\n",
       "</table>\n",
       "</div>"
      ],
      "text/plain": [
       "                       name             start_datetime  \\\n",
       "4089   Coderbunker Shanghai  2017-11-08 10:00:00+00:00   \n",
       "4090   Coderbunker Shanghai  2017-11-08 11:30:00+00:00   \n",
       "4091   Coderbunker Shanghai  2017-10-24 06:00:00+00:00   \n",
       "4092   Coderbunker Shanghai  2017-10-26 02:00:00+00:00   \n",
       "4093  Coderbunker Singapore                        NaT   \n",
       "\n",
       "                                 person_id  \\\n",
       "4089  17d8cefa-c01d-4ec5-85b5-1c5b2edc533c   \n",
       "4090  17d8cefa-c01d-4ec5-85b5-1c5b2edc533c   \n",
       "4091  17d8cefa-c01d-4ec5-85b5-1c5b2edc533c   \n",
       "4092  17d8cefa-c01d-4ec5-85b5-1c5b2edc533c   \n",
       "4093                                  None   \n",
       "\n",
       "                                project_id duration  total  total_discount  \\\n",
       "4089  7446253a-af9e-40bf-ba60-e1d42117d7d3 00:30:00    0.0           350.0   \n",
       "4090  7446253a-af9e-40bf-ba60-e1d42117d7d3 01:30:00    0.0          1050.0   \n",
       "4091  7446253a-af9e-40bf-ba60-e1d42117d7d3 03:00:00    0.0          2100.0   \n",
       "4092  7446253a-af9e-40bf-ba60-e1d42117d7d3 02:00:00    0.0          1400.0   \n",
       "4093                                  None      NaT    NaN             NaN   \n",
       "\n",
       "                    timedelta  relativedelta  \n",
       "4089 173 days 18:12:57.200531              0  \n",
       "4090 173 days 16:42:57.200531              0  \n",
       "4091 188 days 22:12:57.200531              0  \n",
       "4092 187 days 02:12:57.200531              0  \n",
       "4093                      NaT              0  "
      ]
     },
     "execution_count": 1891,
     "metadata": {},
     "output_type": "execute_result"
    }
   ],
   "source": [
    "timesheet.tail()"
   ]
  },
  {
   "cell_type": "code",
   "execution_count": 1892,
   "metadata": {},
   "outputs": [
    {
     "name": "stdout",
     "output_type": "stream",
     "text": [
      "<class 'pandas.core.frame.DataFrame'>\n",
      "RangeIndex: 4094 entries, 0 to 4093\n",
      "Data columns (total 9 columns):\n",
      "name              4094 non-null object\n",
      "start_datetime    4094 non-null object\n",
      "person_id         4093 non-null object\n",
      "project_id        4093 non-null object\n",
      "duration          4093 non-null timedelta64[ns]\n",
      "total             4093 non-null float64\n",
      "total_discount    4093 non-null float64\n",
      "timedelta         4093 non-null timedelta64[ns]\n",
      "relativedelta     4094 non-null int64\n",
      "dtypes: float64(2), int64(1), object(4), timedelta64[ns](2)\n",
      "memory usage: 287.9+ KB\n"
     ]
    }
   ],
   "source": [
    "timesheet.info()"
   ]
  },
  {
   "cell_type": "code",
   "execution_count": 1893,
   "metadata": {},
   "outputs": [
    {
     "data": {
      "text/html": [
       "<div>\n",
       "<style scoped>\n",
       "    .dataframe tbody tr th:only-of-type {\n",
       "        vertical-align: middle;\n",
       "    }\n",
       "\n",
       "    .dataframe tbody tr th {\n",
       "        vertical-align: top;\n",
       "    }\n",
       "\n",
       "    .dataframe thead th {\n",
       "        text-align: right;\n",
       "    }\n",
       "</style>\n",
       "<table border=\"1\" class=\"dataframe\">\n",
       "  <thead>\n",
       "    <tr style=\"text-align: right;\">\n",
       "      <th></th>\n",
       "      <th>name</th>\n",
       "      <th>since</th>\n",
       "    </tr>\n",
       "  </thead>\n",
       "  <tbody>\n",
       "    <tr>\n",
       "      <th>0</th>\n",
       "      <td>Coderbunker Shanghai</td>\n",
       "      <td>2016-10-17 02:00:00+00:00</td>\n",
       "    </tr>\n",
       "    <tr>\n",
       "      <th>1</th>\n",
       "      <td>Coderbunker Singapore</td>\n",
       "      <td>NaT</td>\n",
       "    </tr>\n",
       "  </tbody>\n",
       "</table>\n",
       "</div>"
      ],
      "text/plain": [
       "                    name                      since\n",
       "0   Coderbunker Shanghai  2016-10-17 02:00:00+00:00\n",
       "1  Coderbunker Singapore                        NaT"
      ]
     },
     "execution_count": 1893,
     "metadata": {},
     "output_type": "execute_result"
    }
   ],
   "source": [
    "#getting every values using groupby, then concate into a full table\n",
    "\n",
    "since = timesheet.groupby('name')['start_datetime'].min().reset_index().rename(columns={'start_datetime': 'since'})\n",
    "since"
   ]
  },
  {
   "cell_type": "code",
   "execution_count": 1894,
   "metadata": {},
   "outputs": [
    {
     "data": {
      "text/html": [
       "<div>\n",
       "<style scoped>\n",
       "    .dataframe tbody tr th:only-of-type {\n",
       "        vertical-align: middle;\n",
       "    }\n",
       "\n",
       "    .dataframe tbody tr th {\n",
       "        vertical-align: top;\n",
       "    }\n",
       "\n",
       "    .dataframe thead th {\n",
       "        text-align: right;\n",
       "    }\n",
       "</style>\n",
       "<table border=\"1\" class=\"dataframe\">\n",
       "  <thead>\n",
       "    <tr style=\"text-align: right;\">\n",
       "      <th></th>\n",
       "      <th>name</th>\n",
       "      <th>timedelta</th>\n",
       "    </tr>\n",
       "  </thead>\n",
       "  <tbody>\n",
       "    <tr>\n",
       "      <th>0</th>\n",
       "      <td>Coderbunker Shanghai</td>\n",
       "      <td>561 days 02:12:57.200531</td>\n",
       "    </tr>\n",
       "    <tr>\n",
       "      <th>1</th>\n",
       "      <td>Coderbunker Singapore</td>\n",
       "      <td>NaT</td>\n",
       "    </tr>\n",
       "  </tbody>\n",
       "</table>\n",
       "</div>"
      ],
      "text/plain": [
       "                    name                timedelta\n",
       "0   Coderbunker Shanghai 561 days 02:12:57.200531\n",
       "1  Coderbunker Singapore                      NaT"
      ]
     },
     "execution_count": 1894,
     "metadata": {},
     "output_type": "execute_result"
    }
   ],
   "source": [
    "duration = timesheet.groupby('name')['timedelta'].max().reset_index()\n",
    "duration"
   ]
  },
  {
   "cell_type": "code",
   "execution_count": 1895,
   "metadata": {},
   "outputs": [
    {
     "data": {
      "text/html": [
       "<div>\n",
       "<style scoped>\n",
       "    .dataframe tbody tr th:only-of-type {\n",
       "        vertical-align: middle;\n",
       "    }\n",
       "\n",
       "    .dataframe tbody tr th {\n",
       "        vertical-align: top;\n",
       "    }\n",
       "\n",
       "    .dataframe thead th {\n",
       "        text-align: right;\n",
       "    }\n",
       "</style>\n",
       "<table border=\"1\" class=\"dataframe\">\n",
       "  <thead>\n",
       "    <tr style=\"text-align: right;\">\n",
       "      <th></th>\n",
       "      <th>name</th>\n",
       "      <th>relativedelta</th>\n",
       "    </tr>\n",
       "  </thead>\n",
       "  <tbody>\n",
       "    <tr>\n",
       "      <th>0</th>\n",
       "      <td>Coderbunker Shanghai</td>\n",
       "      <td>1</td>\n",
       "    </tr>\n",
       "    <tr>\n",
       "      <th>1</th>\n",
       "      <td>Coderbunker Singapore</td>\n",
       "      <td>0</td>\n",
       "    </tr>\n",
       "  </tbody>\n",
       "</table>\n",
       "</div>"
      ],
      "text/plain": [
       "                    name  relativedelta\n",
       "0   Coderbunker Shanghai              1\n",
       "1  Coderbunker Singapore              0"
      ]
     },
     "execution_count": 1895,
     "metadata": {},
     "output_type": "execute_result"
    }
   ],
   "source": [
    "duration_relativedelta = timesheet.groupby('name')['relativedelta'].max().reset_index()\n",
    "duration_relativedelta"
   ]
  },
  {
   "cell_type": "code",
   "execution_count": 1896,
   "metadata": {},
   "outputs": [
    {
     "data": {
      "text/html": [
       "<div>\n",
       "<style scoped>\n",
       "    .dataframe tbody tr th:only-of-type {\n",
       "        vertical-align: middle;\n",
       "    }\n",
       "\n",
       "    .dataframe tbody tr th {\n",
       "        vertical-align: top;\n",
       "    }\n",
       "\n",
       "    .dataframe thead th {\n",
       "        text-align: right;\n",
       "    }\n",
       "</style>\n",
       "<table border=\"1\" class=\"dataframe\">\n",
       "  <thead>\n",
       "    <tr style=\"text-align: right;\">\n",
       "      <th></th>\n",
       "      <th>name</th>\n",
       "      <th>people_count</th>\n",
       "    </tr>\n",
       "  </thead>\n",
       "  <tbody>\n",
       "    <tr>\n",
       "      <th>0</th>\n",
       "      <td>Coderbunker Shanghai</td>\n",
       "      <td>54</td>\n",
       "    </tr>\n",
       "    <tr>\n",
       "      <th>1</th>\n",
       "      <td>Coderbunker Singapore</td>\n",
       "      <td>0</td>\n",
       "    </tr>\n",
       "  </tbody>\n",
       "</table>\n",
       "</div>"
      ],
      "text/plain": [
       "                    name  people_count\n",
       "0   Coderbunker Shanghai            54\n",
       "1  Coderbunker Singapore             0"
      ]
     },
     "execution_count": 1896,
     "metadata": {},
     "output_type": "execute_result"
    }
   ],
   "source": [
    "people_count = timesheet.groupby('name')['person_id'].nunique().reset_index().rename(columns={'person_id': 'people_count'})\n",
    "people_count"
   ]
  },
  {
   "cell_type": "code",
   "execution_count": 1897,
   "metadata": {},
   "outputs": [
    {
     "data": {
      "text/html": [
       "<div>\n",
       "<style scoped>\n",
       "    .dataframe tbody tr th:only-of-type {\n",
       "        vertical-align: middle;\n",
       "    }\n",
       "\n",
       "    .dataframe tbody tr th {\n",
       "        vertical-align: top;\n",
       "    }\n",
       "\n",
       "    .dataframe thead th {\n",
       "        text-align: right;\n",
       "    }\n",
       "</style>\n",
       "<table border=\"1\" class=\"dataframe\">\n",
       "  <thead>\n",
       "    <tr style=\"text-align: right;\">\n",
       "      <th></th>\n",
       "      <th>name</th>\n",
       "      <th>project_count</th>\n",
       "    </tr>\n",
       "  </thead>\n",
       "  <tbody>\n",
       "    <tr>\n",
       "      <th>0</th>\n",
       "      <td>Coderbunker Shanghai</td>\n",
       "      <td>19</td>\n",
       "    </tr>\n",
       "    <tr>\n",
       "      <th>1</th>\n",
       "      <td>Coderbunker Singapore</td>\n",
       "      <td>0</td>\n",
       "    </tr>\n",
       "  </tbody>\n",
       "</table>\n",
       "</div>"
      ],
      "text/plain": [
       "                    name  project_count\n",
       "0   Coderbunker Shanghai             19\n",
       "1  Coderbunker Singapore              0"
      ]
     },
     "execution_count": 1897,
     "metadata": {},
     "output_type": "execute_result"
    }
   ],
   "source": [
    "project_count = timesheet.groupby('name')['project_id'].nunique().reset_index().rename(columns={'project_id': 'project_count'})\n",
    "project_count"
   ]
  },
  {
   "cell_type": "code",
   "execution_count": 1898,
   "metadata": {},
   "outputs": [
    {
     "data": {
      "text/html": [
       "<div>\n",
       "<style scoped>\n",
       "    .dataframe tbody tr th:only-of-type {\n",
       "        vertical-align: middle;\n",
       "    }\n",
       "\n",
       "    .dataframe tbody tr th {\n",
       "        vertical-align: top;\n",
       "    }\n",
       "\n",
       "    .dataframe thead th {\n",
       "        text-align: right;\n",
       "    }\n",
       "</style>\n",
       "<table border=\"1\" class=\"dataframe\">\n",
       "  <thead>\n",
       "    <tr style=\"text-align: right;\">\n",
       "      <th></th>\n",
       "      <th>name</th>\n",
       "      <th>active_project_count</th>\n",
       "    </tr>\n",
       "  </thead>\n",
       "  <tbody>\n",
       "    <tr>\n",
       "      <th>0</th>\n",
       "      <td>Coderbunker Shanghai</td>\n",
       "      <td>9</td>\n",
       "    </tr>\n",
       "  </tbody>\n",
       "</table>\n",
       "</div>"
      ],
      "text/plain": [
       "                   name  active_project_count\n",
       "0  Coderbunker Shanghai                     9"
      ]
     },
     "execution_count": 1898,
     "metadata": {},
     "output_type": "execute_result"
    }
   ],
   "source": [
    "active_project_count_old = timesheet[timesheet['timedelta'] < datetime.timedelta(days = 30)]\n",
    "active_project_count_old = active_project_count_old.groupby('name')['project_id'].nunique().reset_index().rename(columns={'project_id': 'active_project_count'})\n",
    "active_project_count_old"
   ]
  },
  {
   "cell_type": "code",
   "execution_count": 1899,
   "metadata": {},
   "outputs": [],
   "source": [
    "#How to return 0/None for Coderbunker Singapore too?\n",
    "#Create a function to count active project...?\n",
    "\n",
    "def count_active_project(timesheet):\n",
    "    active_project_id = []\n",
    "    for x, y in zip(timesheet['project_id'], timesheet['timedelta']):\n",
    "        if y < datetime.timedelta(days = 30):\n",
    "            active_project_id.append(x)\n",
    "    return(len(set(active_project_id)))"
   ]
  },
  {
   "cell_type": "code",
   "execution_count": 1900,
   "metadata": {},
   "outputs": [
    {
     "data": {
      "text/html": [
       "<div>\n",
       "<style scoped>\n",
       "    .dataframe tbody tr th:only-of-type {\n",
       "        vertical-align: middle;\n",
       "    }\n",
       "\n",
       "    .dataframe tbody tr th {\n",
       "        vertical-align: top;\n",
       "    }\n",
       "\n",
       "    .dataframe thead th {\n",
       "        text-align: right;\n",
       "    }\n",
       "</style>\n",
       "<table border=\"1\" class=\"dataframe\">\n",
       "  <thead>\n",
       "    <tr style=\"text-align: right;\">\n",
       "      <th></th>\n",
       "      <th>name</th>\n",
       "      <th>active_project_count</th>\n",
       "    </tr>\n",
       "  </thead>\n",
       "  <tbody>\n",
       "    <tr>\n",
       "      <th>0</th>\n",
       "      <td>Coderbunker Shanghai</td>\n",
       "      <td>9</td>\n",
       "    </tr>\n",
       "    <tr>\n",
       "      <th>1</th>\n",
       "      <td>Coderbunker Singapore</td>\n",
       "      <td>0</td>\n",
       "    </tr>\n",
       "  </tbody>\n",
       "</table>\n",
       "</div>"
      ],
      "text/plain": [
       "                    name  active_project_count\n",
       "0   Coderbunker Shanghai                     9\n",
       "1  Coderbunker Singapore                     0"
      ]
     },
     "execution_count": 1900,
     "metadata": {},
     "output_type": "execute_result"
    }
   ],
   "source": [
    "active_project_count = timesheet.groupby('name').apply(count_active_project).reset_index().rename(columns={0: 'active_project_count'})\n",
    "active_project_count"
   ]
  },
  {
   "cell_type": "code",
   "execution_count": 1901,
   "metadata": {},
   "outputs": [
    {
     "data": {
      "text/html": [
       "<div>\n",
       "<style scoped>\n",
       "    .dataframe tbody tr th:only-of-type {\n",
       "        vertical-align: middle;\n",
       "    }\n",
       "\n",
       "    .dataframe tbody tr th {\n",
       "        vertical-align: top;\n",
       "    }\n",
       "\n",
       "    .dataframe thead th {\n",
       "        text-align: right;\n",
       "    }\n",
       "</style>\n",
       "<table border=\"1\" class=\"dataframe\">\n",
       "  <thead>\n",
       "    <tr style=\"text-align: right;\">\n",
       "      <th></th>\n",
       "      <th>name</th>\n",
       "      <th>total_hours</th>\n",
       "    </tr>\n",
       "  </thead>\n",
       "  <tbody>\n",
       "    <tr>\n",
       "      <th>0</th>\n",
       "      <td>Coderbunker Shanghai</td>\n",
       "      <td>9077</td>\n",
       "    </tr>\n",
       "    <tr>\n",
       "      <th>1</th>\n",
       "      <td>Coderbunker Singapore</td>\n",
       "      <td>0</td>\n",
       "    </tr>\n",
       "  </tbody>\n",
       "</table>\n",
       "</div>"
      ],
      "text/plain": [
       "                    name  total_hours\n",
       "0   Coderbunker Shanghai         9077\n",
       "1  Coderbunker Singapore            0"
      ]
     },
     "execution_count": 1901,
     "metadata": {},
     "output_type": "execute_result"
    }
   ],
   "source": [
    "total_hours = timesheet.groupby('name')['duration'].sum().reset_index().rename(columns={'duration': 'total_hours'})\n",
    "total_hours['total_hours'] = total_hours['total_hours'].apply(lambda x: round(x.total_seconds()/3600))\n",
    "total_hours"
   ]
  },
  {
   "cell_type": "code",
   "execution_count": 1902,
   "metadata": {},
   "outputs": [
    {
     "data": {
      "text/html": [
       "<div>\n",
       "<style scoped>\n",
       "    .dataframe tbody tr th:only-of-type {\n",
       "        vertical-align: middle;\n",
       "    }\n",
       "\n",
       "    .dataframe tbody tr th {\n",
       "        vertical-align: top;\n",
       "    }\n",
       "\n",
       "    .dataframe thead th {\n",
       "        text-align: right;\n",
       "    }\n",
       "</style>\n",
       "<table border=\"1\" class=\"dataframe\">\n",
       "  <thead>\n",
       "    <tr style=\"text-align: right;\">\n",
       "      <th></th>\n",
       "      <th>name</th>\n",
       "      <th>total_eng_months</th>\n",
       "    </tr>\n",
       "  </thead>\n",
       "  <tbody>\n",
       "    <tr>\n",
       "      <th>0</th>\n",
       "      <td>Coderbunker Shanghai</td>\n",
       "      <td>54</td>\n",
       "    </tr>\n",
       "    <tr>\n",
       "      <th>1</th>\n",
       "      <td>Coderbunker Singapore</td>\n",
       "      <td>0</td>\n",
       "    </tr>\n",
       "  </tbody>\n",
       "</table>\n",
       "</div>"
      ],
      "text/plain": [
       "                    name  total_eng_months\n",
       "0   Coderbunker Shanghai                54\n",
       "1  Coderbunker Singapore                 0"
      ]
     },
     "execution_count": 1902,
     "metadata": {},
     "output_type": "execute_result"
    }
   ],
   "source": [
    "total_eng_months = total_hours.rename(columns={'total_hours':'total_eng_months'})\n",
    "total_eng_months['total_eng_months'] = total_eng_months['total_eng_months'].apply(lambda x: round(x/168))\n",
    "total_eng_months"
   ]
  },
  {
   "cell_type": "code",
   "execution_count": 1903,
   "metadata": {},
   "outputs": [
    {
     "data": {
      "text/html": [
       "<div>\n",
       "<style scoped>\n",
       "    .dataframe tbody tr th:only-of-type {\n",
       "        vertical-align: middle;\n",
       "    }\n",
       "\n",
       "    .dataframe tbody tr th {\n",
       "        vertical-align: top;\n",
       "    }\n",
       "\n",
       "    .dataframe thead th {\n",
       "        text-align: right;\n",
       "    }\n",
       "</style>\n",
       "<table border=\"1\" class=\"dataframe\">\n",
       "  <thead>\n",
       "    <tr style=\"text-align: right;\">\n",
       "      <th></th>\n",
       "      <th>name</th>\n",
       "      <th>total_gross</th>\n",
       "    </tr>\n",
       "  </thead>\n",
       "  <tbody>\n",
       "    <tr>\n",
       "      <th>0</th>\n",
       "      <td>Coderbunker Shanghai</td>\n",
       "      <td>2005301</td>\n",
       "    </tr>\n",
       "    <tr>\n",
       "      <th>1</th>\n",
       "      <td>Coderbunker Singapore</td>\n",
       "      <td>0</td>\n",
       "    </tr>\n",
       "  </tbody>\n",
       "</table>\n",
       "</div>"
      ],
      "text/plain": [
       "                    name  total_gross\n",
       "0   Coderbunker Shanghai      2005301\n",
       "1  Coderbunker Singapore            0"
      ]
     },
     "execution_count": 1903,
     "metadata": {},
     "output_type": "execute_result"
    }
   ],
   "source": [
    "total_gross = timesheet.groupby('name')['total'].sum().reset_index().rename(columns={'total': 'total_gross'})\n",
    "total_gross['total_gross'] = total_gross['total_gross'].apply(lambda x: round(x))\n",
    "total_gross"
   ]
  },
  {
   "cell_type": "code",
   "execution_count": 1904,
   "metadata": {},
   "outputs": [
    {
     "data": {
      "text/html": [
       "<div>\n",
       "<style scoped>\n",
       "    .dataframe tbody tr th:only-of-type {\n",
       "        vertical-align: middle;\n",
       "    }\n",
       "\n",
       "    .dataframe tbody tr th {\n",
       "        vertical-align: top;\n",
       "    }\n",
       "\n",
       "    .dataframe thead th {\n",
       "        text-align: right;\n",
       "    }\n",
       "</style>\n",
       "<table border=\"1\" class=\"dataframe\">\n",
       "  <thead>\n",
       "    <tr style=\"text-align: right;\">\n",
       "      <th></th>\n",
       "      <th>name</th>\n",
       "      <th>total_investment</th>\n",
       "    </tr>\n",
       "  </thead>\n",
       "  <tbody>\n",
       "    <tr>\n",
       "      <th>0</th>\n",
       "      <td>Coderbunker Shanghai</td>\n",
       "      <td>200020</td>\n",
       "    </tr>\n",
       "    <tr>\n",
       "      <th>1</th>\n",
       "      <td>Coderbunker Singapore</td>\n",
       "      <td>0</td>\n",
       "    </tr>\n",
       "  </tbody>\n",
       "</table>\n",
       "</div>"
      ],
      "text/plain": [
       "                    name  total_investment\n",
       "0   Coderbunker Shanghai            200020\n",
       "1  Coderbunker Singapore                 0"
      ]
     },
     "execution_count": 1904,
     "metadata": {},
     "output_type": "execute_result"
    }
   ],
   "source": [
    "total_investment = timesheet.groupby('name')['total_discount'].sum().reset_index().rename(columns={'total_discount': 'total_investment'})\n",
    "total_investment['total_investment'] = total_investment['total_investment'].apply(lambda x: round(x))\n",
    "total_investment"
   ]
  },
  {
   "cell_type": "code",
   "execution_count": 1905,
   "metadata": {},
   "outputs": [
    {
     "data": {
      "text/html": [
       "<div>\n",
       "<style scoped>\n",
       "    .dataframe tbody tr th:only-of-type {\n",
       "        vertical-align: middle;\n",
       "    }\n",
       "\n",
       "    .dataframe tbody tr th {\n",
       "        vertical-align: top;\n",
       "    }\n",
       "\n",
       "    .dataframe thead th {\n",
       "        text-align: right;\n",
       "    }\n",
       "</style>\n",
       "<table border=\"1\" class=\"dataframe\">\n",
       "  <thead>\n",
       "    <tr style=\"text-align: right;\">\n",
       "      <th>orgname</th>\n",
       "      <th>Coderbunker Shanghai</th>\n",
       "      <th>Coderbunker Singapore</th>\n",
       "    </tr>\n",
       "  </thead>\n",
       "  <tbody>\n",
       "    <tr>\n",
       "      <th>since</th>\n",
       "      <td>2016-10-17 02:00:00+00:00</td>\n",
       "      <td>NaT</td>\n",
       "    </tr>\n",
       "    <tr>\n",
       "      <th>timedelta</th>\n",
       "      <td>561 days 02:12:57.200531</td>\n",
       "      <td>NaT</td>\n",
       "    </tr>\n",
       "    <tr>\n",
       "      <th>people_count</th>\n",
       "      <td>54</td>\n",
       "      <td>0</td>\n",
       "    </tr>\n",
       "    <tr>\n",
       "      <th>project_count</th>\n",
       "      <td>19</td>\n",
       "      <td>0</td>\n",
       "    </tr>\n",
       "    <tr>\n",
       "      <th>active_project_count</th>\n",
       "      <td>9</td>\n",
       "      <td>0</td>\n",
       "    </tr>\n",
       "    <tr>\n",
       "      <th>total_hours</th>\n",
       "      <td>9077</td>\n",
       "      <td>0</td>\n",
       "    </tr>\n",
       "    <tr>\n",
       "      <th>total_gross</th>\n",
       "      <td>2005301</td>\n",
       "      <td>0</td>\n",
       "    </tr>\n",
       "    <tr>\n",
       "      <th>total_investment</th>\n",
       "      <td>200020</td>\n",
       "      <td>0</td>\n",
       "    </tr>\n",
       "  </tbody>\n",
       "</table>\n",
       "</div>"
      ],
      "text/plain": [
       "orgname                    Coderbunker Shanghai Coderbunker Singapore\n",
       "since                 2016-10-17 02:00:00+00:00                   NaT\n",
       "timedelta              561 days 02:12:57.200531                   NaT\n",
       "people_count                                 54                     0\n",
       "project_count                                19                     0\n",
       "active_project_count                          9                     0\n",
       "total_hours                                9077                     0\n",
       "total_gross                             2005301                     0\n",
       "total_investment                         200020                     0"
      ]
     },
     "execution_count": 1905,
     "metadata": {},
     "output_type": "execute_result"
    }
   ],
   "source": [
    "frames = [since, duration, people_count, project_count, active_project_count, total_hours, total_eng_months, total_gross, total_investment]\n",
    "organization = pd.concat(frames, axis = 1, join = 'inner').T.drop_duplicates().T\n",
    "organization = organization.rename({'name': 'orgname'}, axis='columns').set_index('orgname').T\n",
    "organization"
   ]
  },
  {
   "cell_type": "code",
   "execution_count": null,
   "metadata": {},
   "outputs": [],
   "source": []
  }
 ],
 "metadata": {
  "kernelspec": {
   "display_name": "Python 3",
   "language": "python",
   "name": "python3"
  },
  "language_info": {
   "codemirror_mode": {
    "name": "ipython",
    "version": 3
   },
   "file_extension": ".py",
   "mimetype": "text/x-python",
   "name": "python",
   "nbconvert_exporter": "python",
   "pygments_lexer": "ipython3",
   "version": "3.6.4"
  }
 },
 "nbformat": 4,
 "nbformat_minor": 2
}
