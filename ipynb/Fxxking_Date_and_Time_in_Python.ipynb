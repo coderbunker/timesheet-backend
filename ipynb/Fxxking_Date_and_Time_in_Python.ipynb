{
 "cells": [
  {
   "cell_type": "markdown",
   "metadata": {},
   "source": [
    "## Fxxking Date and Time in Python\n",
    "* date string / datetime / timestamp / timezone / timedelta\n",
    "* time / datetime / pytz / dateutil"
   ]
  },
  {
   "cell_type": "code",
   "execution_count": 80,
   "metadata": {},
   "outputs": [],
   "source": [
    "import time\n",
    "import datetime\n",
    "import pytz\n",
    "import dateutil.parser"
   ]
  },
  {
   "cell_type": "markdown",
   "metadata": {},
   "source": [
    "1. From ISO-8601 Date String to Datetime / Parsing\n",
    "2. From ISO-8601 Date String to Datetime UTC\n",
    "3. From Datetime UTC (Now) to Timestamp\n",
    "4. From Naive Date String to Datetime with Timezone\n",
    "5. From Naive Date String to Timestamp UTC\n",
    "6. From Naive Datetime to ISO-8601 Date String\n",
    "7. From Timestamp to Datetime UTC\n",
    "8. From UTC to Another Timezone\n",
    "9. Add and Substract Time with Timedelta"
   ]
  },
  {
   "cell_type": "markdown",
   "metadata": {},
   "source": [
    "## 1. From ISO-8601 Date String to Datetime / Parsing"
   ]
  },
  {
   "cell_type": "code",
   "execution_count": 181,
   "metadata": {},
   "outputs": [
    {
     "name": "stdout",
     "output_type": "stream",
     "text": [
      "2018-04-27 16:44:44-02:00\n"
     ]
    },
    {
     "data": {
      "text/plain": [
       "datetime.datetime(2018, 4, 27, 16, 44, 44, tzinfo=datetime.timezone(datetime.timedelta(-1, 79200)))"
      ]
     },
     "metadata": {},
     "output_type": "display_data"
    }
   ],
   "source": [
    "format = '%Y-%m-%dT%H:%M:%S%z'\n",
    "datestring = '2018-04-27T16:44:44-0200'\n",
    "date = datetime.datetime.strptime(datestring, format)\n",
    "print(date)\n",
    "display(date)"
   ]
  },
  {
   "cell_type": "markdown",
   "metadata": {},
   "source": [
    "## 2. From ISO-8601 Date String to Datetime UTC"
   ]
  },
  {
   "cell_type": "code",
   "execution_count": 196,
   "metadata": {},
   "outputs": [
    {
     "name": "stdout",
     "output_type": "stream",
     "text": [
      "2018-04-27 16:44:44-02:00\n"
     ]
    },
    {
     "data": {
      "text/plain": [
       "datetime.datetime(2018, 4, 27, 16, 44, 44, tzinfo=tzoffset(None, -7200))"
      ]
     },
     "metadata": {},
     "output_type": "display_data"
    },
    {
     "name": "stdout",
     "output_type": "stream",
     "text": [
      "2018-04-27 18:44:44+00:00\n"
     ]
    },
    {
     "data": {
      "text/plain": [
       "datetime.datetime(2018, 4, 27, 18, 44, 44, tzinfo=<UTC>)"
      ]
     },
     "metadata": {},
     "output_type": "display_data"
    }
   ],
   "source": [
    "format = '%Y-%m-%dT%H:%M:%S%z'\n",
    "datestring = '2018-04-27T16:44:44-0200'\n",
    "date = dateutil.parser.parse(datestring)\n",
    "print(date)\n",
    "display(date)\n",
    "date = date.replace(tzinfo=pytz.utc) - date.utcoffset()\n",
    "print(date)\n",
    "display(date)"
   ]
  },
  {
   "cell_type": "markdown",
   "metadata": {},
   "source": [
    "## 3. From Datetime UTC (Now) to Timestamp"
   ]
  },
  {
   "cell_type": "code",
   "execution_count": 221,
   "metadata": {},
   "outputs": [
    {
     "name": "stdout",
     "output_type": "stream",
     "text": [
      "1524870835.538517\n"
     ]
    },
    {
     "data": {
      "text/plain": [
       "1524870835.538517"
      ]
     },
     "metadata": {},
     "output_type": "display_data"
    }
   ],
   "source": [
    "now = datetime.datetime.utcnow().timestamp()\n",
    "print(now)\n",
    "display(now)"
   ]
  },
  {
   "cell_type": "markdown",
   "metadata": {},
   "source": [
    "## 4. From Naive Date String to Datetime with Timezone"
   ]
  },
  {
   "cell_type": "code",
   "execution_count": 192,
   "metadata": {},
   "outputs": [
    {
     "data": {
      "text/plain": [
       "datetime.datetime(2018, 12, 4, 0, 0)"
      ]
     },
     "execution_count": 192,
     "metadata": {},
     "output_type": "execute_result"
    }
   ],
   "source": [
    "#naive datetime\n",
    "date = datetime.datetime.strptime('04/12/2018', '%d/%m/%Y')\n",
    "date"
   ]
  },
  {
   "cell_type": "code",
   "execution_count": 193,
   "metadata": {},
   "outputs": [
    {
     "data": {
      "text/plain": [
       "datetime.datetime(2018, 12, 4, 0, 0, tzinfo=<DstTzInfo 'America/Los_Angeles' PST-1 day, 16:00:00 STD>)"
      ]
     },
     "execution_count": 193,
     "metadata": {},
     "output_type": "execute_result"
    }
   ],
   "source": [
    "#add proper timezone for the date\n",
    "date = pytz.timezone('America/Los_Angeles').localize(date)\n",
    "date"
   ]
  },
  {
   "cell_type": "markdown",
   "metadata": {},
   "source": [
    "## 5. From Naive Date String to Timestamp UTC"
   ]
  },
  {
   "cell_type": "code",
   "execution_count": 163,
   "metadata": {},
   "outputs": [
    {
     "data": {
      "text/plain": [
       "datetime.datetime(2018, 12, 4, 8, 0, tzinfo=<UTC>)"
      ]
     },
     "execution_count": 163,
     "metadata": {},
     "output_type": "execute_result"
    }
   ],
   "source": [
    "#convert to UTC timezone\n",
    "date = date.astimezone(pytz.UTC)\n",
    "date"
   ]
  },
  {
   "cell_type": "code",
   "execution_count": 114,
   "metadata": {},
   "outputs": [
    {
     "data": {
      "text/plain": [
       "1543881600.0"
      ]
     },
     "execution_count": 114,
     "metadata": {},
     "output_type": "execute_result"
    }
   ],
   "source": [
    "timestamp = time.mktime(date.timetuple())\n",
    "timestamp"
   ]
  },
  {
   "cell_type": "markdown",
   "metadata": {},
   "source": [
    "## 6. From Naive Datetime to ISO-8601 Date String"
   ]
  },
  {
   "cell_type": "code",
   "execution_count": 215,
   "metadata": {},
   "outputs": [
    {
     "data": {
      "text/plain": [
       "'2018-04-28T18:23:45-07:00'"
      ]
     },
     "execution_count": 215,
     "metadata": {},
     "output_type": "execute_result"
    }
   ],
   "source": [
    "date = datetime.datetime.strptime('28/04/2018 18:23:45', '%d/%m/%Y %H:%M:%S')\n",
    "date = pytz.timezone('America/Los_Angeles').localize(date)\n",
    "date = date.isoformat()\n",
    "date"
   ]
  },
  {
   "cell_type": "code",
   "execution_count": 216,
   "metadata": {},
   "outputs": [
    {
     "data": {
      "text/plain": [
       "'28/04/2018 18:23:45'"
      ]
     },
     "execution_count": 216,
     "metadata": {},
     "output_type": "execute_result"
    }
   ],
   "source": [
    "date = datetime.datetime.strptime('28/04/2018 18:23:45', '%d/%m/%Y %H:%M:%S')\n",
    "date = date.strftime('%d/%m/%Y %H:%M:%S')\n",
    "date"
   ]
  },
  {
   "cell_type": "markdown",
   "metadata": {},
   "source": [
    "## 7. From Timestamp to Datetime UTC"
   ]
  },
  {
   "cell_type": "code",
   "execution_count": 164,
   "metadata": {},
   "outputs": [
    {
     "data": {
      "text/plain": [
       "datetime.datetime(2018, 4, 27, 1, 31, 42, tzinfo=<UTC>)"
      ]
     },
     "execution_count": 164,
     "metadata": {},
     "output_type": "execute_result"
    }
   ],
   "source": [
    "date = datetime.datetime.utcfromtimestamp(1524792702)\n",
    "date = pytz.UTC.localize(date)\n",
    "date"
   ]
  },
  {
   "cell_type": "markdown",
   "metadata": {},
   "source": [
    "## 8. From UTC to Another Timezone"
   ]
  },
  {
   "cell_type": "code",
   "execution_count": 142,
   "metadata": {},
   "outputs": [
    {
     "data": {
      "text/plain": [
       "datetime.datetime(2018, 4, 26, 18, 31, 42, tzinfo=<DstTzInfo 'America/Los_Angeles' PDT-1 day, 17:00:00 DST>)"
      ]
     },
     "execution_count": 142,
     "metadata": {},
     "output_type": "execute_result"
    }
   ],
   "source": [
    "date = date.astimezone(pytz.timezone('America/Los_Angeles'))\n",
    "date"
   ]
  },
  {
   "cell_type": "markdown",
   "metadata": {},
   "source": [
    "## 9. Add and Substract Time with Timedelta"
   ]
  },
  {
   "cell_type": "code",
   "execution_count": 144,
   "metadata": {},
   "outputs": [
    {
     "data": {
      "text/plain": [
       "datetime.datetime(2018, 4, 29, 3, 20, 22, tzinfo=<DstTzInfo 'America/Los_Angeles' PDT-1 day, 17:00:00 DST>)"
      ]
     },
     "execution_count": 144,
     "metadata": {},
     "output_type": "execute_result"
    }
   ],
   "source": [
    "date = datetime.datetime(2018, 4, 28, 18, 20, 22)\n",
    "date = date.astimezone(pytz.UTC)\n",
    "date = date + datetime.timedelta(days=1)\n",
    "date = date.astimezone(pytz.timezone('America/Los_Angeles'))\n",
    "date"
   ]
  },
  {
   "cell_type": "markdown",
   "metadata": {},
   "source": [
    "## Reference\n",
    "* https://dateformat.io/\n",
    "* https://timestamp.online/\n",
    "* https://wiki.python.org/moin/WorkingWithTime\n",
    "* https://medium.com/@eleroy/10-things-you-need-to-know-about-date-and-time-in-python-with-datetime-pytz-dateutil-timedelta-309bfbafb3f7"
   ]
  },
  {
   "cell_type": "code",
   "execution_count": null,
   "metadata": {},
   "outputs": [],
   "source": []
  }
 ],
 "metadata": {
  "kernelspec": {
   "display_name": "Python 3",
   "language": "python",
   "name": "python3"
  },
  "language_info": {
   "codemirror_mode": {
    "name": "ipython",
    "version": 3
   },
   "file_extension": ".py",
   "mimetype": "text/x-python",
   "name": "python",
   "nbconvert_exporter": "python",
   "pygments_lexer": "ipython3",
   "version": "3.6.4"
  },
  "widgets": {
   "application/vnd.jupyter.widget-state+json": {
    "state": {},
    "version_major": 2,
    "version_minor": 0
   }
  }
 },
 "nbformat": 4,
 "nbformat_minor": 2
}
